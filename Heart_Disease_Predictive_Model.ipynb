{
  "nbformat": 4,
  "nbformat_minor": 0,
  "metadata": {
    "colab": {
      "name": "Heart Disease Predictive Model.ipynb",
      "provenance": []
    },
    "kernelspec": {
      "name": "python3",
      "display_name": "Python 3"
    },
    "language_info": {
      "name": "python"
    }
  },
  "cells": [
    {
      "cell_type": "markdown",
      "metadata": {
        "id": "-zIpSyMcv82g"
      },
      "source": [
        "**Heart Disease Prediction**\n",
        "--\n",
        "*By: JOTJIT NATH*\n"
      ]
    },
    {
      "cell_type": "code",
      "metadata": {
        "id": "dixqfF2fvguI"
      },
      "source": [
        "import numpy as np\n",
        "import pandas as pd"
      ],
      "execution_count": null,
      "outputs": []
    },
    {
      "cell_type": "code",
      "metadata": {
        "id": "sQuH_Cccvvmo"
      },
      "source": [
        "df = pd.read_csv('/content/drive/MyDrive/SmartKnower/Minor Project/heart.csv')"
      ],
      "execution_count": null,
      "outputs": []
    },
    {
      "cell_type": "code",
      "metadata": {
        "colab": {
          "base_uri": "https://localhost:8080/",
          "height": 204
        },
        "id": "iujvkTJ5w79X",
        "outputId": "6fd9edc7-710d-48c0-f1b6-82f79a8c0520"
      },
      "source": [
        "df.head()"
      ],
      "execution_count": null,
      "outputs": [
        {
          "output_type": "execute_result",
          "data": {
            "text/html": [
              "<div>\n",
              "<style scoped>\n",
              "    .dataframe tbody tr th:only-of-type {\n",
              "        vertical-align: middle;\n",
              "    }\n",
              "\n",
              "    .dataframe tbody tr th {\n",
              "        vertical-align: top;\n",
              "    }\n",
              "\n",
              "    .dataframe thead th {\n",
              "        text-align: right;\n",
              "    }\n",
              "</style>\n",
              "<table border=\"1\" class=\"dataframe\">\n",
              "  <thead>\n",
              "    <tr style=\"text-align: right;\">\n",
              "      <th></th>\n",
              "      <th>age</th>\n",
              "      <th>sex</th>\n",
              "      <th>cp</th>\n",
              "      <th>trestbps</th>\n",
              "      <th>chol</th>\n",
              "      <th>fbs</th>\n",
              "      <th>restecg</th>\n",
              "      <th>thalach</th>\n",
              "      <th>exang</th>\n",
              "      <th>oldpeak</th>\n",
              "      <th>slope</th>\n",
              "      <th>ca</th>\n",
              "      <th>thal</th>\n",
              "      <th>target</th>\n",
              "    </tr>\n",
              "  </thead>\n",
              "  <tbody>\n",
              "    <tr>\n",
              "      <th>0</th>\n",
              "      <td>63</td>\n",
              "      <td>1</td>\n",
              "      <td>3</td>\n",
              "      <td>145</td>\n",
              "      <td>233</td>\n",
              "      <td>1</td>\n",
              "      <td>0</td>\n",
              "      <td>150</td>\n",
              "      <td>0</td>\n",
              "      <td>2.3</td>\n",
              "      <td>0</td>\n",
              "      <td>0</td>\n",
              "      <td>1</td>\n",
              "      <td>1</td>\n",
              "    </tr>\n",
              "    <tr>\n",
              "      <th>1</th>\n",
              "      <td>37</td>\n",
              "      <td>1</td>\n",
              "      <td>2</td>\n",
              "      <td>130</td>\n",
              "      <td>250</td>\n",
              "      <td>0</td>\n",
              "      <td>1</td>\n",
              "      <td>187</td>\n",
              "      <td>0</td>\n",
              "      <td>3.5</td>\n",
              "      <td>0</td>\n",
              "      <td>0</td>\n",
              "      <td>2</td>\n",
              "      <td>1</td>\n",
              "    </tr>\n",
              "    <tr>\n",
              "      <th>2</th>\n",
              "      <td>41</td>\n",
              "      <td>0</td>\n",
              "      <td>1</td>\n",
              "      <td>130</td>\n",
              "      <td>204</td>\n",
              "      <td>0</td>\n",
              "      <td>0</td>\n",
              "      <td>172</td>\n",
              "      <td>0</td>\n",
              "      <td>1.4</td>\n",
              "      <td>2</td>\n",
              "      <td>0</td>\n",
              "      <td>2</td>\n",
              "      <td>1</td>\n",
              "    </tr>\n",
              "    <tr>\n",
              "      <th>3</th>\n",
              "      <td>56</td>\n",
              "      <td>1</td>\n",
              "      <td>1</td>\n",
              "      <td>120</td>\n",
              "      <td>236</td>\n",
              "      <td>0</td>\n",
              "      <td>1</td>\n",
              "      <td>178</td>\n",
              "      <td>0</td>\n",
              "      <td>0.8</td>\n",
              "      <td>2</td>\n",
              "      <td>0</td>\n",
              "      <td>2</td>\n",
              "      <td>1</td>\n",
              "    </tr>\n",
              "    <tr>\n",
              "      <th>4</th>\n",
              "      <td>57</td>\n",
              "      <td>0</td>\n",
              "      <td>0</td>\n",
              "      <td>120</td>\n",
              "      <td>354</td>\n",
              "      <td>0</td>\n",
              "      <td>1</td>\n",
              "      <td>163</td>\n",
              "      <td>1</td>\n",
              "      <td>0.6</td>\n",
              "      <td>2</td>\n",
              "      <td>0</td>\n",
              "      <td>2</td>\n",
              "      <td>1</td>\n",
              "    </tr>\n",
              "  </tbody>\n",
              "</table>\n",
              "</div>"
            ],
            "text/plain": [
              "   age  sex  cp  trestbps  chol  fbs  ...  exang  oldpeak  slope  ca  thal  target\n",
              "0   63    1   3       145   233    1  ...      0      2.3      0   0     1       1\n",
              "1   37    1   2       130   250    0  ...      0      3.5      0   0     2       1\n",
              "2   41    0   1       130   204    0  ...      0      1.4      2   0     2       1\n",
              "3   56    1   1       120   236    0  ...      0      0.8      2   0     2       1\n",
              "4   57    0   0       120   354    0  ...      1      0.6      2   0     2       1\n",
              "\n",
              "[5 rows x 14 columns]"
            ]
          },
          "metadata": {},
          "execution_count": 26
        }
      ]
    },
    {
      "cell_type": "code",
      "metadata": {
        "colab": {
          "base_uri": "https://localhost:8080/"
        },
        "id": "3fLXvc6Ex3lm",
        "outputId": "be860952-271b-47ad-cb8b-dbeda3b515bf"
      },
      "source": [
        "df.columns"
      ],
      "execution_count": null,
      "outputs": [
        {
          "output_type": "execute_result",
          "data": {
            "text/plain": [
              "Index(['age', 'sex', 'cp', 'trestbps', 'chol', 'fbs', 'restecg', 'thalach',\n",
              "       'exang', 'oldpeak', 'slope', 'ca', 'thal', 'target'],\n",
              "      dtype='object')"
            ]
          },
          "metadata": {},
          "execution_count": 27
        }
      ]
    },
    {
      "cell_type": "code",
      "metadata": {
        "colab": {
          "base_uri": "https://localhost:8080/"
        },
        "id": "y7ZEnR4Xx7EZ",
        "outputId": "3b3191e5-bd80-4105-8da8-2a782e1ae3b9"
      },
      "source": [
        "df.shape"
      ],
      "execution_count": null,
      "outputs": [
        {
          "output_type": "execute_result",
          "data": {
            "text/plain": [
              "(303, 14)"
            ]
          },
          "metadata": {},
          "execution_count": 17
        }
      ]
    },
    {
      "cell_type": "code",
      "metadata": {
        "id": "Wy0LXX8Hx9g7"
      },
      "source": [
        "import seaborn as sns\n",
        "import matplotlib.pyplot as plt"
      ],
      "execution_count": null,
      "outputs": []
    },
    {
      "cell_type": "code",
      "metadata": {
        "id": "qhxxHxlW0yn6"
      },
      "source": [
        "sns.set_style(\"whitegrid\")"
      ],
      "execution_count": null,
      "outputs": []
    },
    {
      "cell_type": "code",
      "metadata": {
        "colab": {
          "base_uri": "https://localhost:8080/",
          "height": 407
        },
        "id": "Yl2iwWuQ04g2",
        "outputId": "32d08910-34e1-416d-ecd3-03c29596853b"
      },
      "source": [
        "plt.figure(figsize =(8, 6))\n",
        "f = sns.countplot(x = 'target', data = df, hue = 'sex')\n",
        "plt.legend(['Female', 'Male'])\n",
        "f.set_title(\"Heart disease gender wise\")\n",
        "f.set_xticklabels(['No Heart disease', 'Heart Disease'])\n",
        "plt.xlabel(\"\")"
      ],
      "execution_count": null,
      "outputs": [
        {
          "output_type": "execute_result",
          "data": {
            "text/plain": [
              "Text(0.5, 0, '')"
            ]
          },
          "metadata": {},
          "execution_count": 21
        },
        {
          "output_type": "display_data",
          "data": {
            "image/png": "[encoded data removed]",
            "text/plain": [
              "<Figure size 576x432 with 1 Axes>"
            ]
          },
          "metadata": {}
        }
      ]
    },
    {
      "cell_type": "code",
      "metadata": {
        "colab": {
          "base_uri": "https://localhost:8080/",
          "height": 407
        },
        "id": "q_ItSsBQ06-u",
        "outputId": "91fc7145-8d71-41e2-c362-67b44d6bbf63"
      },
      "source": [
        "plt.figure(figsize =(8, 6))\n",
        "f = sns.countplot(x='cp', data=df, hue='target')\n",
        "f.set_title(\"Heart Disease Presence Distribution\")\n",
        "f.set_xticklabels(['Typical Angina', 'Atypical Angina', 'Non-anginal Pain', 'Asymptomatic'])\n",
        "plt.ylabel(\"Chest Pain Type\")\n",
        "plt.xlabel(\"\")\n",
        "plt.legend(['No Disease', 'Disease'])"
      ],
      "execution_count": null,
      "outputs": [
        {
          "output_type": "execute_result",
          "data": {
            "text/plain": [
              "<matplotlib.legend.Legend at 0x7f705df6e350>"
            ]
          },
          "metadata": {},
          "execution_count": 22
        },
        {
          "output_type": "display_data",
          "data": {
            "image/png": "[encoded data removed]",
            "text/plain": [
              "<Figure size 576x432 with 1 Axes>"
            ]
          },
          "metadata": {}
        }
      ]
    },
    {
      "cell_type": "code",
      "metadata": {
        "colab": {
          "base_uri": "https://localhost:8080/",
          "height": 513
        },
        "id": "O9Z9iL1M0_bR",
        "outputId": "9615a662-cb08-4a93-ae3b-5d703bc19e7d"
      },
      "source": [
        "plt.figure(figsize=(10, 8))\n",
        "plt.scatter(df.age[df.target==1],\n",
        "    df.thalach[df.target==1],\n",
        "    c=\"salmon\")\n",
        "plt.scatter(df.age[df.target==0],\n",
        "    df.thalach[df.target==0],\n",
        "    c=\"lightblue\")\n",
        "plt.title(\"Heart Disease in function of Age and Max Heart Rate\")\n",
        "plt.xlabel(\"Age\")\n",
        "plt.ylabel(\"Max Heart Rate\")\n",
        "plt.legend([\"Disease\", \"No Disease\"]);"
      ],
      "execution_count": null,
      "outputs": [
        {
          "output_type": "display_data",
          "data": {
            "image/png": "[encoded data removed]",
            "text/plain": [
              "<Figure size 720x576 with 1 Axes>"
            ]
          },
          "metadata": {}
        }
      ]
    },
    {
      "cell_type": "code",
      "metadata": {
        "colab": {
          "base_uri": "https://localhost:8080/",
          "height": 499
        },
        "id": "No-XJpHe1DeD",
        "outputId": "9d43441e-f0a1-4183-ae38-55a881d79332"
      },
      "source": [
        "plt.figure(figsize =(10, 8))\n",
        "f = sns.countplot(x='target', data=df)\n",
        "f.set_title(\"Heart Disease Presence Distribution\")\n",
        "f.set_xticklabels(['No Heart disease', 'Heart Disease'])\n",
        "plt.xlabel(\"\");"
      ],
      "execution_count": null,
      "outputs": [
        {
          "output_type": "display_data",
          "data": {
            "image/png": "[encoded data removed]",
            "text/plain": [
              "<Figure size 720x576 with 1 Axes>"
            ]
          },
          "metadata": {}
        }
      ]
    },
    {
      "cell_type": "code",
      "metadata": {
        "colab": {
          "base_uri": "https://localhost:8080/"
        },
        "id": "64nima9x5MSL",
        "outputId": "cb4701d9-b9ad-4c3f-e54e-a64d944c71a4"
      },
      "source": [
        "feature_columns = []\n",
        "for header in ['age', 'trestbps', 'chol', 'thalach', 'oldpeak', 'ca']:\n",
        "    feature_columns.append(tf.feature_column.numeric_column(header))\n",
        "feature_columns"
      ],
      "execution_count": null,
      "outputs": [
        {
          "output_type": "execute_result",
          "data": {
            "text/plain": [
              "[NumericColumn(key='age', shape=(1,), default_value=None, dtype=tf.float32, normalizer_fn=None),\n",
              " NumericColumn(key='trestbps', shape=(1,), default_value=None, dtype=tf.float32, normalizer_fn=None),\n",
              " NumericColumn(key='chol', shape=(1,), default_value=None, dtype=tf.float32, normalizer_fn=None),\n",
              " NumericColumn(key='thalach', shape=(1,), default_value=None, dtype=tf.float32, normalizer_fn=None),\n",
              " NumericColumn(key='oldpeak', shape=(1,), default_value=None, dtype=tf.float32, normalizer_fn=None),\n",
              " NumericColumn(key='ca', shape=(1,), default_value=None, dtype=tf.float32, normalizer_fn=None)]"
            ]
          },
          "metadata": {},
          "execution_count": 44
        }
      ]
    },
    {
      "cell_type": "code",
      "metadata": {
        "id": "AWLQ5ftb1GyC"
      },
      "source": [
        "from sklearn.model_selection import train_test_split\n",
        "import tensorflow as tf"
      ],
      "execution_count": null,
      "outputs": []
    },
    {
      "cell_type": "code",
      "metadata": {
        "id": "pW6_r7hc2uj2"
      },
      "source": [
        "def df_to_dataset(dataframe, batch_size=32):\n",
        "    dataframe = dataframe.copy()\n",
        "    labels = dataframe.pop('target')\n",
        "    return tf.data.Dataset.from_tensor_slices((dict(dataframe), labels)) \\\n",
        "          .shuffle(buffer_size=len(dataframe)) \\\n",
        "          .batch(batch_size)"
      ],
      "execution_count": null,
      "outputs": []
    },
    {
      "cell_type": "code",
      "metadata": {
        "id": "87tq6b4s3nYc"
      },
      "source": [
        "train, test = train_test_split(df, test_size=0.2, random_state=32)\n",
        "train_ds = df_to_dataset(train)\n",
        "test_ds = df_to_dataset(test)"
      ],
      "execution_count": null,
      "outputs": []
    },
    {
      "cell_type": "code",
      "metadata": {
        "colab": {
          "base_uri": "https://localhost:8080/"
        },
        "id": "HTkih-V44UPw",
        "outputId": "63d9b235-c757-453e-b810-9671732b93d5"
      },
      "source": [
        "for feature_batch, label_batch in train_ds.take(2):\n",
        "    print('Every feature:', list(feature_batch.keys()))\n",
        "    print('A batch of ages:', feature_batch['age'])\n",
        "    print('A batch of targets:', label_batch )"
      ],
      "execution_count": null,
      "outputs": [
        {
          "output_type": "stream",
          "text": [
            "Every feature: ['age', 'sex', 'cp', 'trestbps', 'chol', 'fbs', 'restecg', 'thalach', 'exang', 'oldpeak', 'slope', 'ca', 'thal']\n",
            "A batch of ages: tf.Tensor(\n",
            "[51 56 64 58 46 44 40 57 44 57 54 51 42 52 66 67 56 58 59 41 56 42 45 51\n",
            " 62 42 56 64 46 46 44 41], shape=(32,), dtype=int64)\n",
            "A batch of targets: tf.Tensor([0 0 0 1 1 1 1 1 1 0 1 1 1 1 1 0 0 0 1 1 0 1 1 1 1 1 1 0 0 0 0 1], shape=(32,), dtype=int64)\n",
            "Every feature: ['age', 'sex', 'cp', 'trestbps', 'chol', 'fbs', 'restecg', 'thalach', 'exang', 'oldpeak', 'slope', 'ca', 'thal']\n",
            "A batch of ages: tf.Tensor(\n",
            "[54 52 47 56 59 70 64 41 57 46 35 61 62 67 43 63 77 52 58 35 60 61 39 62\n",
            " 43 74 50 56 40 60 65 67], shape=(32,), dtype=int64)\n",
            "A batch of targets: tf.Tensor([1 1 1 1 0 0 0 1 0 1 0 0 0 0 0 0 0 1 0 1 1 0 0 0 1 1 0 0 0 1 0 1], shape=(32,), dtype=int64)\n"
          ],
          "name": "stdout"
        }
      ]
    },
    {
      "cell_type": "code",
      "metadata": {
        "colab": {
          "base_uri": "https://localhost:8080/"
        },
        "id": "nd2ww-1O4-Bq",
        "outputId": "175503d7-4f34-4fb2-df8f-113dc9d362f6"
      },
      "source": [
        "feature_layer = tf.keras.layers.DenseFeatures(feature_columns)\n",
        "feature_layer"
      ],
      "execution_count": null,
      "outputs": [
        {
          "output_type": "execute_result",
          "data": {
            "text/plain": [
              "<keras.feature_column.dense_features_v2.DenseFeatures at 0x7f70159dfa90>"
            ]
          },
          "metadata": {},
          "execution_count": 45
        }
      ]
    },
    {
      "cell_type": "code",
      "metadata": {
        "id": "BZO9aPum5CZO"
      },
      "source": [
        "model = tf.keras.models.Sequential([\n",
        "  feature_layer,\n",
        "  tf.keras.layers.Dense(units=128, activation='relu'),\n",
        "  tf.keras.layers.Dropout(rate=0.2),\n",
        "  tf.keras.layers.Dense(units=128, activation='relu'),\n",
        "  tf.keras.layers.Dense(units=1, activation='sigmoid')\n",
        "])"
      ],
      "execution_count": null,
      "outputs": []
    },
    {
      "cell_type": "code",
      "metadata": {
        "id": "L3kcfl9q5XAA"
      },
      "source": [
        "model.compile(optimizer='adam',\n",
        "              loss='binary_crossentropy',\n",
        "              metrics=['accuracy'])"
      ],
      "execution_count": null,
      "outputs": []
    },
    {
      "cell_type": "code",
      "metadata": {
        "colab": {
          "base_uri": "https://localhost:8080/"
        },
        "id": "0SB4P-AJ5aG7",
        "outputId": "c30ea250-12d8-4f37-b9ee-6b523b26e785"
      },
      "source": [
        "history = model.fit(train_ds, validation_data=test_ds, epochs=100, use_multiprocessing=True)"
      ],
      "execution_count": null,
      "outputs": [
        {
          "output_type": "stream",
          "text": [
            "Epoch 1/100\n",
            "WARNING:tensorflow:Layers in a Sequential model should only have a single input tensor, but we receive a <class 'dict'> input: {'age': <tf.Tensor 'ExpandDims:0' shape=(None, 1) dtype=int64>, 'sex': <tf.Tensor 'ExpandDims_8:0' shape=(None, 1) dtype=int64>, 'cp': <tf.Tensor 'ExpandDims_3:0' shape=(None, 1) dtype=int64>, 'trestbps': <tf.Tensor 'ExpandDims_12:0' shape=(None, 1) dtype=int64>, 'chol': <tf.Tensor 'ExpandDims_2:0' shape=(None, 1) dtype=int64>, 'fbs': <tf.Tensor 'ExpandDims_5:0' shape=(None, 1) dtype=int64>, 'restecg': <tf.Tensor 'ExpandDims_7:0' shape=(None, 1) dtype=int64>, 'thalach': <tf.Tensor 'ExpandDims_11:0' shape=(None, 1) dtype=int64>, 'exang': <tf.Tensor 'ExpandDims_4:0' shape=(None, 1) dtype=int64>, 'oldpeak': <tf.Tensor 'ExpandDims_6:0' shape=(None, 1) dtype=float64>, 'slope': <tf.Tensor 'ExpandDims_9:0' shape=(None, 1) dtype=int64>, 'ca': <tf.Tensor 'ExpandDims_1:0' shape=(None, 1) dtype=int64>, 'thal': <tf.Tensor 'ExpandDims_10:0' shape=(None, 1) dtype=int64>}\n",
            "Consider rewriting this model with the Functional API.\n",
            "WARNING:tensorflow:Layers in a Sequential model should only have a single input tensor, but we receive a <class 'dict'> input: {'age': <tf.Tensor 'ExpandDims:0' shape=(None, 1) dtype=int64>, 'sex': <tf.Tensor 'ExpandDims_8:0' shape=(None, 1) dtype=int64>, 'cp': <tf.Tensor 'ExpandDims_3:0' shape=(None, 1) dtype=int64>, 'trestbps': <tf.Tensor 'ExpandDims_12:0' shape=(None, 1) dtype=int64>, 'chol': <tf.Tensor 'ExpandDims_2:0' shape=(None, 1) dtype=int64>, 'fbs': <tf.Tensor 'ExpandDims_5:0' shape=(None, 1) dtype=int64>, 'restecg': <tf.Tensor 'ExpandDims_7:0' shape=(None, 1) dtype=int64>, 'thalach': <tf.Tensor 'ExpandDims_11:0' shape=(None, 1) dtype=int64>, 'exang': <tf.Tensor 'ExpandDims_4:0' shape=(None, 1) dtype=int64>, 'oldpeak': <tf.Tensor 'ExpandDims_6:0' shape=(None, 1) dtype=float64>, 'slope': <tf.Tensor 'ExpandDims_9:0' shape=(None, 1) dtype=int64>, 'ca': <tf.Tensor 'ExpandDims_1:0' shape=(None, 1) dtype=int64>, 'thal': <tf.Tensor 'ExpandDims_10:0' shape=(None, 1) dtype=int64>}\n",
            "Consider rewriting this model with the Functional API.\n",
            "1/8 [==>...........................] - ETA: 11s - loss: 52.2275 - accuracy: 0.4375WARNING:tensorflow:Layers in a Sequential model should only have a single input tensor, but we receive a <class 'dict'> input: {'age': <tf.Tensor 'ExpandDims:0' shape=(None, 1) dtype=int64>, 'sex': <tf.Tensor 'ExpandDims_8:0' shape=(None, 1) dtype=int64>, 'cp': <tf.Tensor 'ExpandDims_3:0' shape=(None, 1) dtype=int64>, 'trestbps': <tf.Tensor 'ExpandDims_12:0' shape=(None, 1) dtype=int64>, 'chol': <tf.Tensor 'ExpandDims_2:0' shape=(None, 1) dtype=int64>, 'fbs': <tf.Tensor 'ExpandDims_5:0' shape=(None, 1) dtype=int64>, 'restecg': <tf.Tensor 'ExpandDims_7:0' shape=(None, 1) dtype=int64>, 'thalach': <tf.Tensor 'ExpandDims_11:0' shape=(None, 1) dtype=int64>, 'exang': <tf.Tensor 'ExpandDims_4:0' shape=(None, 1) dtype=int64>, 'oldpeak': <tf.Tensor 'ExpandDims_6:0' shape=(None, 1) dtype=float64>, 'slope': <tf.Tensor 'ExpandDims_9:0' shape=(None, 1) dtype=int64>, 'ca': <tf.Tensor 'ExpandDims_1:0' shape=(None, 1) dtype=int64>, 'thal': <tf.Tensor 'ExpandDims_10:0' shape=(None, 1) dtype=int64>}\n",
            "Consider rewriting this model with the Functional API.\n",
            "8/8 [==============================] - 2s 49ms/step - loss: 20.5289 - accuracy: 0.4793 - val_loss: 16.3620 - val_accuracy: 0.5082\n",
            "Epoch 2/100\n",
            "8/8 [==============================] - 0s 6ms/step - loss: 8.2371 - accuracy: 0.5537 - val_loss: 5.5703 - val_accuracy: 0.5082\n",
            "Epoch 3/100\n",
            "8/8 [==============================] - 0s 6ms/step - loss: 4.1100 - accuracy: 0.6033 - val_loss: 4.2850 - val_accuracy: 0.5574\n",
            "Epoch 4/100\n",
            "8/8 [==============================] - 0s 6ms/step - loss: 4.3149 - accuracy: 0.6405 - val_loss: 1.2381 - val_accuracy: 0.6721\n",
            "Epoch 5/100\n",
            "8/8 [==============================] - 0s 6ms/step - loss: 3.2601 - accuracy: 0.6074 - val_loss: 1.8441 - val_accuracy: 0.6557\n",
            "Epoch 6/100\n",
            "8/8 [==============================] - 0s 7ms/step - loss: 2.7738 - accuracy: 0.6281 - val_loss: 1.2318 - val_accuracy: 0.6557\n",
            "Epoch 7/100\n",
            "8/8 [==============================] - 0s 6ms/step - loss: 2.4351 - accuracy: 0.5661 - val_loss: 1.3569 - val_accuracy: 0.6557\n",
            "Epoch 8/100\n",
            "8/8 [==============================] - 0s 6ms/step - loss: 2.5085 - accuracy: 0.5909 - val_loss: 0.9460 - val_accuracy: 0.6557\n",
            "Epoch 9/100\n",
            "8/8 [==============================] - 0s 6ms/step - loss: 2.6289 - accuracy: 0.6074 - val_loss: 2.2204 - val_accuracy: 0.5902\n",
            "Epoch 10/100\n",
            "8/8 [==============================] - 0s 6ms/step - loss: 2.2506 - accuracy: 0.5826 - val_loss: 1.0181 - val_accuracy: 0.6557\n",
            "Epoch 11/100\n",
            "8/8 [==============================] - 0s 6ms/step - loss: 2.0241 - accuracy: 0.5826 - val_loss: 0.8186 - val_accuracy: 0.6230\n",
            "Epoch 12/100\n",
            "8/8 [==============================] - 0s 7ms/step - loss: 1.4642 - accuracy: 0.6612 - val_loss: 0.9122 - val_accuracy: 0.6393\n",
            "Epoch 13/100\n",
            "8/8 [==============================] - 0s 7ms/step - loss: 1.5796 - accuracy: 0.6281 - val_loss: 1.4917 - val_accuracy: 0.5574\n",
            "Epoch 14/100\n",
            "8/8 [==============================] - 0s 6ms/step - loss: 1.9869 - accuracy: 0.5950 - val_loss: 0.7368 - val_accuracy: 0.6557\n",
            "Epoch 15/100\n",
            "8/8 [==============================] - 0s 6ms/step - loss: 1.7306 - accuracy: 0.5702 - val_loss: 1.0420 - val_accuracy: 0.6393\n",
            "Epoch 16/100\n",
            "8/8 [==============================] - 0s 6ms/step - loss: 1.4847 - accuracy: 0.5909 - val_loss: 1.3840 - val_accuracy: 0.6066\n",
            "Epoch 17/100\n",
            "8/8 [==============================] - 0s 6ms/step - loss: 1.5253 - accuracy: 0.6364 - val_loss: 1.2211 - val_accuracy: 0.6066\n",
            "Epoch 18/100\n",
            "8/8 [==============================] - 0s 9ms/step - loss: 1.4283 - accuracy: 0.5950 - val_loss: 0.7776 - val_accuracy: 0.5574\n",
            "Epoch 19/100\n",
            "8/8 [==============================] - 0s 7ms/step - loss: 1.3421 - accuracy: 0.5826 - val_loss: 0.7171 - val_accuracy: 0.6721\n",
            "Epoch 20/100\n",
            "8/8 [==============================] - 0s 6ms/step - loss: 1.2129 - accuracy: 0.6033 - val_loss: 0.7153 - val_accuracy: 0.6066\n",
            "Epoch 21/100\n",
            "8/8 [==============================] - 0s 6ms/step - loss: 1.7902 - accuracy: 0.5950 - val_loss: 1.7628 - val_accuracy: 0.5574\n",
            "Epoch 22/100\n",
            "8/8 [==============================] - 0s 6ms/step - loss: 1.6939 - accuracy: 0.6240 - val_loss: 0.6995 - val_accuracy: 0.6557\n",
            "Epoch 23/100\n",
            "8/8 [==============================] - 0s 6ms/step - loss: 1.5745 - accuracy: 0.5909 - val_loss: 0.7543 - val_accuracy: 0.6721\n",
            "Epoch 24/100\n",
            "8/8 [==============================] - 0s 6ms/step - loss: 0.9640 - accuracy: 0.6694 - val_loss: 1.0878 - val_accuracy: 0.5902\n",
            "Epoch 25/100\n",
            "8/8 [==============================] - 0s 6ms/step - loss: 1.1999 - accuracy: 0.6116 - val_loss: 0.8293 - val_accuracy: 0.6066\n",
            "Epoch 26/100\n",
            "8/8 [==============================] - 0s 6ms/step - loss: 1.3245 - accuracy: 0.6074 - val_loss: 0.6587 - val_accuracy: 0.6393\n",
            "Epoch 27/100\n",
            "8/8 [==============================] - 0s 6ms/step - loss: 0.9309 - accuracy: 0.6612 - val_loss: 0.7212 - val_accuracy: 0.6393\n",
            "Epoch 28/100\n",
            "8/8 [==============================] - 0s 6ms/step - loss: 1.2352 - accuracy: 0.5992 - val_loss: 0.8437 - val_accuracy: 0.6557\n",
            "Epoch 29/100\n",
            "8/8 [==============================] - 0s 6ms/step - loss: 1.0182 - accuracy: 0.6322 - val_loss: 0.7434 - val_accuracy: 0.6393\n",
            "Epoch 30/100\n",
            "8/8 [==============================] - 0s 6ms/step - loss: 1.0753 - accuracy: 0.6240 - val_loss: 0.6564 - val_accuracy: 0.6557\n",
            "Epoch 31/100\n",
            "8/8 [==============================] - 0s 6ms/step - loss: 1.0556 - accuracy: 0.6157 - val_loss: 0.5790 - val_accuracy: 0.6721\n",
            "Epoch 32/100\n",
            "8/8 [==============================] - 0s 7ms/step - loss: 1.0163 - accuracy: 0.6322 - val_loss: 0.6055 - val_accuracy: 0.6721\n",
            "Epoch 33/100\n",
            "8/8 [==============================] - 0s 7ms/step - loss: 1.0103 - accuracy: 0.6322 - val_loss: 0.7091 - val_accuracy: 0.6066\n",
            "Epoch 34/100\n",
            "8/8 [==============================] - 0s 6ms/step - loss: 1.0271 - accuracy: 0.6570 - val_loss: 0.6666 - val_accuracy: 0.6393\n",
            "Epoch 35/100\n",
            "8/8 [==============================] - 0s 7ms/step - loss: 0.8507 - accuracy: 0.6322 - val_loss: 1.2228 - val_accuracy: 0.5902\n",
            "Epoch 36/100\n",
            "8/8 [==============================] - 0s 6ms/step - loss: 0.9064 - accuracy: 0.5909 - val_loss: 1.1190 - val_accuracy: 0.6066\n",
            "Epoch 37/100\n",
            "8/8 [==============================] - 0s 6ms/step - loss: 1.0582 - accuracy: 0.6240 - val_loss: 0.6185 - val_accuracy: 0.6557\n",
            "Epoch 38/100\n",
            "8/8 [==============================] - 0s 7ms/step - loss: 0.9020 - accuracy: 0.5992 - val_loss: 1.1451 - val_accuracy: 0.6066\n",
            "Epoch 39/100\n",
            "8/8 [==============================] - 0s 6ms/step - loss: 0.8584 - accuracy: 0.6653 - val_loss: 0.6997 - val_accuracy: 0.6721\n",
            "Epoch 40/100\n",
            "8/8 [==============================] - 0s 8ms/step - loss: 0.9853 - accuracy: 0.6116 - val_loss: 1.0502 - val_accuracy: 0.6230\n",
            "Epoch 41/100\n",
            "8/8 [==============================] - 0s 8ms/step - loss: 0.9408 - accuracy: 0.5950 - val_loss: 1.4553 - val_accuracy: 0.5574\n",
            "Epoch 42/100\n",
            "8/8 [==============================] - 0s 7ms/step - loss: 0.9602 - accuracy: 0.5909 - val_loss: 0.7752 - val_accuracy: 0.6393\n",
            "Epoch 43/100\n",
            "8/8 [==============================] - 0s 6ms/step - loss: 0.6996 - accuracy: 0.6860 - val_loss: 0.6902 - val_accuracy: 0.6557\n",
            "Epoch 44/100\n",
            "8/8 [==============================] - 0s 7ms/step - loss: 0.9437 - accuracy: 0.6529 - val_loss: 0.6289 - val_accuracy: 0.6557\n",
            "Epoch 45/100\n",
            "8/8 [==============================] - 0s 7ms/step - loss: 1.0835 - accuracy: 0.6198 - val_loss: 0.5821 - val_accuracy: 0.7213\n",
            "Epoch 46/100\n",
            "8/8 [==============================] - 0s 6ms/step - loss: 0.8507 - accuracy: 0.6281 - val_loss: 0.5939 - val_accuracy: 0.6885\n",
            "Epoch 47/100\n",
            "8/8 [==============================] - 0s 6ms/step - loss: 0.7299 - accuracy: 0.6653 - val_loss: 0.7298 - val_accuracy: 0.6557\n",
            "Epoch 48/100\n",
            "8/8 [==============================] - 0s 6ms/step - loss: 0.8861 - accuracy: 0.6240 - val_loss: 1.2335 - val_accuracy: 0.5738\n",
            "Epoch 49/100\n",
            "8/8 [==============================] - 0s 6ms/step - loss: 1.4458 - accuracy: 0.5661 - val_loss: 0.7886 - val_accuracy: 0.6557\n",
            "Epoch 50/100\n",
            "8/8 [==============================] - 0s 6ms/step - loss: 1.0316 - accuracy: 0.6694 - val_loss: 0.6762 - val_accuracy: 0.6721\n",
            "Epoch 51/100\n",
            "8/8 [==============================] - 0s 5ms/step - loss: 0.9542 - accuracy: 0.6488 - val_loss: 0.6473 - val_accuracy: 0.6066\n",
            "Epoch 52/100\n",
            "8/8 [==============================] - 0s 6ms/step - loss: 0.7398 - accuracy: 0.6446 - val_loss: 0.8248 - val_accuracy: 0.5902\n",
            "Epoch 53/100\n",
            "8/8 [==============================] - 0s 6ms/step - loss: 0.8546 - accuracy: 0.6405 - val_loss: 0.8467 - val_accuracy: 0.5738\n",
            "Epoch 54/100\n",
            "8/8 [==============================] - 0s 6ms/step - loss: 0.8516 - accuracy: 0.6198 - val_loss: 1.2675 - val_accuracy: 0.5574\n",
            "Epoch 55/100\n",
            "8/8 [==============================] - 0s 6ms/step - loss: 0.9551 - accuracy: 0.5868 - val_loss: 0.6769 - val_accuracy: 0.6557\n",
            "Epoch 56/100\n",
            "8/8 [==============================] - 0s 7ms/step - loss: 0.9448 - accuracy: 0.6364 - val_loss: 0.6797 - val_accuracy: 0.6393\n",
            "Epoch 57/100\n",
            "8/8 [==============================] - 0s 7ms/step - loss: 0.9747 - accuracy: 0.5744 - val_loss: 0.5863 - val_accuracy: 0.6557\n",
            "Epoch 58/100\n",
            "8/8 [==============================] - 0s 7ms/step - loss: 0.8028 - accuracy: 0.6694 - val_loss: 0.9858 - val_accuracy: 0.5574\n",
            "Epoch 59/100\n",
            "8/8 [==============================] - 0s 6ms/step - loss: 0.9330 - accuracy: 0.6116 - val_loss: 0.6378 - val_accuracy: 0.6557\n",
            "Epoch 60/100\n",
            "8/8 [==============================] - 0s 5ms/step - loss: 0.9436 - accuracy: 0.6198 - val_loss: 0.7215 - val_accuracy: 0.6557\n",
            "Epoch 61/100\n",
            "8/8 [==============================] - 0s 6ms/step - loss: 0.7589 - accuracy: 0.6612 - val_loss: 0.6134 - val_accuracy: 0.6721\n",
            "Epoch 62/100\n",
            "8/8 [==============================] - 0s 7ms/step - loss: 0.7650 - accuracy: 0.6281 - val_loss: 0.7606 - val_accuracy: 0.6230\n",
            "Epoch 63/100\n",
            "8/8 [==============================] - 0s 6ms/step - loss: 0.8629 - accuracy: 0.6446 - val_loss: 0.7102 - val_accuracy: 0.6066\n",
            "Epoch 64/100\n",
            "8/8 [==============================] - 0s 6ms/step - loss: 0.7763 - accuracy: 0.6694 - val_loss: 0.6740 - val_accuracy: 0.6557\n",
            "Epoch 65/100\n",
            "8/8 [==============================] - 0s 7ms/step - loss: 0.7601 - accuracy: 0.6570 - val_loss: 0.5938 - val_accuracy: 0.6557\n",
            "Epoch 66/100\n",
            "8/8 [==============================] - 0s 7ms/step - loss: 0.6842 - accuracy: 0.6570 - val_loss: 0.6566 - val_accuracy: 0.6885\n",
            "Epoch 67/100\n",
            "8/8 [==============================] - 0s 7ms/step - loss: 0.6527 - accuracy: 0.6818 - val_loss: 0.5975 - val_accuracy: 0.6885\n",
            "Epoch 68/100\n",
            "8/8 [==============================] - 0s 6ms/step - loss: 0.6842 - accuracy: 0.6736 - val_loss: 0.6436 - val_accuracy: 0.6721\n",
            "Epoch 69/100\n",
            "8/8 [==============================] - 0s 7ms/step - loss: 0.7208 - accuracy: 0.6736 - val_loss: 0.6247 - val_accuracy: 0.6557\n",
            "Epoch 70/100\n",
            "8/8 [==============================] - 0s 6ms/step - loss: 0.7426 - accuracy: 0.6198 - val_loss: 0.6377 - val_accuracy: 0.6721\n",
            "Epoch 71/100\n",
            "8/8 [==============================] - 0s 6ms/step - loss: 0.7341 - accuracy: 0.6364 - val_loss: 0.6641 - val_accuracy: 0.6393\n",
            "Epoch 72/100\n",
            "8/8 [==============================] - 0s 6ms/step - loss: 0.6519 - accuracy: 0.7149 - val_loss: 0.6363 - val_accuracy: 0.6393\n",
            "Epoch 73/100\n",
            "8/8 [==============================] - 0s 7ms/step - loss: 0.6468 - accuracy: 0.6860 - val_loss: 0.8024 - val_accuracy: 0.6393\n",
            "Epoch 74/100\n",
            "8/8 [==============================] - 0s 6ms/step - loss: 0.7001 - accuracy: 0.7107 - val_loss: 0.7978 - val_accuracy: 0.6393\n",
            "Epoch 75/100\n",
            "8/8 [==============================] - 0s 6ms/step - loss: 0.6388 - accuracy: 0.7066 - val_loss: 0.8671 - val_accuracy: 0.6066\n",
            "Epoch 76/100\n",
            "8/8 [==============================] - 0s 6ms/step - loss: 0.6734 - accuracy: 0.6446 - val_loss: 1.0451 - val_accuracy: 0.5738\n",
            "Epoch 77/100\n",
            "8/8 [==============================] - 0s 6ms/step - loss: 0.7283 - accuracy: 0.6777 - val_loss: 0.8001 - val_accuracy: 0.6393\n",
            "Epoch 78/100\n",
            "8/8 [==============================] - 0s 6ms/step - loss: 0.7330 - accuracy: 0.6281 - val_loss: 0.5831 - val_accuracy: 0.6721\n",
            "Epoch 79/100\n",
            "8/8 [==============================] - 0s 6ms/step - loss: 0.7089 - accuracy: 0.6612 - val_loss: 0.8064 - val_accuracy: 0.6066\n",
            "Epoch 80/100\n",
            "8/8 [==============================] - 0s 6ms/step - loss: 0.7756 - accuracy: 0.6612 - val_loss: 0.6236 - val_accuracy: 0.6557\n",
            "Epoch 81/100\n",
            "8/8 [==============================] - 0s 6ms/step - loss: 0.7361 - accuracy: 0.6405 - val_loss: 0.7010 - val_accuracy: 0.6393\n",
            "Epoch 82/100\n",
            "8/8 [==============================] - 0s 6ms/step - loss: 0.7627 - accuracy: 0.6570 - val_loss: 0.5915 - val_accuracy: 0.6721\n",
            "Epoch 83/100\n",
            "8/8 [==============================] - 0s 8ms/step - loss: 0.7420 - accuracy: 0.6405 - val_loss: 0.5746 - val_accuracy: 0.6393\n",
            "Epoch 84/100\n",
            "8/8 [==============================] - 0s 6ms/step - loss: 0.7069 - accuracy: 0.6529 - val_loss: 0.5791 - val_accuracy: 0.6721\n",
            "Epoch 85/100\n",
            "8/8 [==============================] - 0s 6ms/step - loss: 0.6827 - accuracy: 0.6488 - val_loss: 0.7012 - val_accuracy: 0.6557\n",
            "Epoch 86/100\n",
            "8/8 [==============================] - 0s 6ms/step - loss: 0.6227 - accuracy: 0.7025 - val_loss: 0.5541 - val_accuracy: 0.6721\n",
            "Epoch 87/100\n",
            "8/8 [==============================] - 0s 7ms/step - loss: 0.6083 - accuracy: 0.6983 - val_loss: 0.6050 - val_accuracy: 0.6885\n",
            "Epoch 88/100\n",
            "8/8 [==============================] - 0s 6ms/step - loss: 0.7161 - accuracy: 0.6405 - val_loss: 0.6559 - val_accuracy: 0.6885\n",
            "Epoch 89/100\n",
            "8/8 [==============================] - 0s 7ms/step - loss: 0.6457 - accuracy: 0.6653 - val_loss: 0.5902 - val_accuracy: 0.6721\n",
            "Epoch 90/100\n",
            "8/8 [==============================] - 0s 7ms/step - loss: 0.6874 - accuracy: 0.6488 - val_loss: 0.5911 - val_accuracy: 0.6393\n",
            "Epoch 91/100\n",
            "8/8 [==============================] - 0s 7ms/step - loss: 0.6999 - accuracy: 0.6446 - val_loss: 0.5772 - val_accuracy: 0.6557\n",
            "Epoch 92/100\n",
            "8/8 [==============================] - 0s 6ms/step - loss: 0.5896 - accuracy: 0.7025 - val_loss: 0.6408 - val_accuracy: 0.6721\n",
            "Epoch 93/100\n",
            "8/8 [==============================] - 0s 6ms/step - loss: 0.6426 - accuracy: 0.6364 - val_loss: 0.6389 - val_accuracy: 0.7049\n",
            "Epoch 94/100\n",
            "8/8 [==============================] - 0s 6ms/step - loss: 0.7040 - accuracy: 0.6529 - val_loss: 0.7871 - val_accuracy: 0.6557\n",
            "Epoch 95/100\n",
            "8/8 [==============================] - 0s 7ms/step - loss: 0.6866 - accuracy: 0.6777 - val_loss: 0.6482 - val_accuracy: 0.6721\n",
            "Epoch 96/100\n",
            "8/8 [==============================] - 0s 6ms/step - loss: 0.6424 - accuracy: 0.6901 - val_loss: 0.5744 - val_accuracy: 0.6885\n",
            "Epoch 97/100\n",
            "8/8 [==============================] - 0s 7ms/step - loss: 0.6387 - accuracy: 0.6818 - val_loss: 0.5690 - val_accuracy: 0.7213\n",
            "Epoch 98/100\n",
            "8/8 [==============================] - 0s 6ms/step - loss: 0.6729 - accuracy: 0.6488 - val_loss: 0.5770 - val_accuracy: 0.7377\n",
            "Epoch 99/100\n",
            "8/8 [==============================] - 0s 6ms/step - loss: 0.8248 - accuracy: 0.6364 - val_loss: 0.6527 - val_accuracy: 0.6230\n",
            "Epoch 100/100\n",
            "8/8 [==============================] - 0s 6ms/step - loss: 0.6617 - accuracy: 0.6653 - val_loss: 0.5772 - val_accuracy: 0.6721\n"
          ],
          "name": "stdout"
        }
      ]
    },
    {
      "cell_type": "code",
      "metadata": {
        "colab": {
          "base_uri": "https://localhost:8080/"
        },
        "id": "MTicvss75b9j",
        "outputId": "1da83ed0-760b-4116-9361-d34a4abbeef3"
      },
      "source": [
        "model.evaluate(test_ds)"
      ],
      "execution_count": null,
      "outputs": [
        {
          "output_type": "stream",
          "text": [
            "2/2 [==============================] - 0s 12ms/step - loss: 0.5772 - accuracy: 0.6721\n"
          ],
          "name": "stdout"
        },
        {
          "output_type": "execute_result",
          "data": {
            "text/plain": [
              "[0.5772414207458496, 0.6721311211585999]"
            ]
          },
          "metadata": {},
          "execution_count": 49
        }
      ]
    },
    {
      "cell_type": "code",
      "metadata": {
        "colab": {
          "base_uri": "https://localhost:8080/",
          "height": 404
        },
        "id": "VyU_BOYQ5h_0",
        "outputId": "49eb20b3-01c0-413a-fac8-7cf356e190d0"
      },
      "source": [
        "plt.figure(figsize =(10, 6))\n",
        "plt.plot(history.history['accuracy'])\n",
        "plt.plot(history.history['val_accuracy'])\n",
        "plt.title('Model Accuracy')\n",
        "plt.ylabel('Accuracy')\n",
        "plt.xlabel('Epoch')\n",
        "plt.ylim((0, 1))\n",
        "plt.legend(['Train', 'Test'], loc='upper left');"
      ],
      "execution_count": null,
      "outputs": [
        {
          "output_type": "display_data",
          "data": {
            "image/png": "[encoded data removed]",
            "text/plain": [
              "<Figure size 720x432 with 1 Axes>"
            ]
          },
          "metadata": {}
        }
      ]
    },
    {
      "cell_type": "code",
      "metadata": {
        "colab": {
          "base_uri": "https://localhost:8080/"
        },
        "id": "puavkT3J5k6M",
        "outputId": "e97b7d4b-9a12-45cb-80d7-79fdc9eb2380"
      },
      "source": [
        "predictions = model.predict(test_ds)\n",
        "bin_predictions = tf.round(predictions).numpy().flatten()\n",
        "bin_predictions"
      ],
      "execution_count": null,
      "outputs": [
        {
          "output_type": "stream",
          "text": [
            "WARNING:tensorflow:Layers in a Sequential model should only have a single input tensor, but we receive a <class 'dict'> input: {'age': <tf.Tensor 'ExpandDims:0' shape=(None, 1) dtype=int64>, 'sex': <tf.Tensor 'ExpandDims_8:0' shape=(None, 1) dtype=int64>, 'cp': <tf.Tensor 'ExpandDims_3:0' shape=(None, 1) dtype=int64>, 'trestbps': <tf.Tensor 'ExpandDims_12:0' shape=(None, 1) dtype=int64>, 'chol': <tf.Tensor 'ExpandDims_2:0' shape=(None, 1) dtype=int64>, 'fbs': <tf.Tensor 'ExpandDims_5:0' shape=(None, 1) dtype=int64>, 'restecg': <tf.Tensor 'ExpandDims_7:0' shape=(None, 1) dtype=int64>, 'thalach': <tf.Tensor 'ExpandDims_11:0' shape=(None, 1) dtype=int64>, 'exang': <tf.Tensor 'ExpandDims_4:0' shape=(None, 1) dtype=int64>, 'oldpeak': <tf.Tensor 'ExpandDims_6:0' shape=(None, 1) dtype=float64>, 'slope': <tf.Tensor 'ExpandDims_9:0' shape=(None, 1) dtype=int64>, 'ca': <tf.Tensor 'ExpandDims_1:0' shape=(None, 1) dtype=int64>, 'thal': <tf.Tensor 'ExpandDims_10:0' shape=(None, 1) dtype=int64>}\n",
            "Consider rewriting this model with the Functional API.\n"
          ],
          "name": "stdout"
        },
        {
          "output_type": "execute_result",
          "data": {
            "text/plain": [
              "array([1., 0., 1., 1., 0., 0., 0., 0., 0., 1., 1., 0., 0., 0., 1., 1., 1.,\n",
              "       0., 0., 0., 0., 1., 1., 0., 1., 1., 0., 0., 0., 1., 0., 0., 1., 1.,\n",
              "       1., 1., 0., 0., 0., 1., 1., 0., 1., 0., 0., 0., 1., 0., 1., 1., 1.,\n",
              "       0., 1., 0., 1., 1., 0., 0., 0., 0., 0.], dtype=float32)"
            ]
          },
          "metadata": {},
          "execution_count": 51
        }
      ]
    },
    {
      "cell_type": "markdown",
      "metadata": {
        "id": "qnpaYKb05wN1"
      },
      "source": [
        "**Thank You** \n",
        "--"
      ]
    }
  ]
}